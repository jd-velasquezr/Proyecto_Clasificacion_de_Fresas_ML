{
  "nbformat": 4,
  "nbformat_minor": 0,
  "metadata": {
    "colab": {
      "provenance": [],
      "authorship_tag": "ABX9TyMdumIChiH9rGvJlAusy60/",
      "include_colab_link": true
    },
    "kernelspec": {
      "name": "python3",
      "display_name": "Python 3"
    },
    "language_info": {
      "name": "python"
    }
  },
  "cells": [
    {
      "cell_type": "markdown",
      "metadata": {
        "id": "view-in-github",
        "colab_type": "text"
      },
      "source": [
        "<a href=\"https://colab.research.google.com/github/jd-velasquezr/TG_Fresas/blob/main/PreProces_Aumento.ipynb\" target=\"_parent\"><img src=\"https://colab.research.google.com/assets/colab-badge.svg\" alt=\"Open In Colab\"/></a>"
      ]
    },
    {
      "cell_type": "code",
      "source": [
        "# CÓDIGO DE PREPROCESAMIENTO Y AUMENTO DE IMÁGENES PARA LA CREACIÓN DEL \n",
        "# CONJUNTO DE DATOS DE ENTRENAMIENTO.\n",
        "# Realizado por: Juan D. Velásquez y Daniel Barandica.\n",
        "\n",
        "# Importación de librerías necesarias para efectuar el preprocesamiento de las\n",
        "# imágenes y el aumento de imágenes.\n",
        "from google.colab import drive\n",
        "drive.mount('/content/drive')\n",
        "\n",
        "!pip install Augmentor\n",
        "import Augmentor\n",
        "import os\n",
        "import cv2 as cv\n",
        "from google.colab.patches import cv2_imshow\n",
        "import numpy as np\n",
        "import re\n",
        "import os\n",
        "from tqdm import tqdm\n",
        "\n",
        "# Se define a continuación la función que efectúa el preprocesamiento completo \n",
        "# de una imagen de entrada.\n",
        "\n",
        "def img_process(img, cond):\n",
        "  # En este paso se realiza la reescalización de la imagen a un tamaño de \n",
        "  # 256x192 píxeles.\n",
        "  img = cv.resize(img, (256, 192), interpolation = cv.INTER_AREA)\n",
        "  brightness = 100\n",
        "  contrast = 150\n",
        "\n",
        "  # Se realizan las respectivas operaciones para aumentar contraste y brillo de\n",
        "  # la imagen de entrada.\n",
        "  img = np.int16(img)\n",
        "  img = img * (contrast/255+1) - contrast + brightness\n",
        "  img = np.clip(img, 0, 255)\n",
        "  img = np.uint8(img)\n",
        "\n",
        "  # Se efectúan las operaciones de sharpening mediante un filtro 2D.\n",
        "  kernel = np.array([[0, -1, 0],\n",
        "                   [-1, 5,-1],\n",
        "                   [0, -1, 0]])\n",
        "  img = cv.filter2D(src=img, ddepth=-1, kernel=kernel)\n",
        "\n",
        "  # En esta línea se realiza la conversión de la imagen a un espacio de color\n",
        "  # HSV.\n",
        "  frameHSV = cv.cvtColor(img, cv.COLOR_BGR2HSV)\n",
        "\n",
        "  # Se definen los intervalos del filtro de color blanco en la escala HSV.\n",
        "  lower_white = np.array([0,0,255-15])\n",
        "  upper_white = np.array([255,15,255])\n",
        "  maskww = cv.inRange(frameHSV, lower_white, upper_white)\n",
        "  #Se Realiza La Operación morfológica de closing, para eliminar algunos puntos\n",
        "  # faltantes en la máscara que puedan afectar el resultado.\n",
        "  # Esto principalmente se hace para asegurar que se eliminan la mayor cantidad\n",
        "  # de píxeles de color gris y a su vez, que se mantengan los píxeles de color\n",
        "  # blanco presentes en la fresa enferma.\n",
        "  W = 5\n",
        "  kernel = cv.getStructuringElement(cv.MORPH_RECT, (2 * W + 1, 2 * W + 1))\n",
        "  mask_antiwhite = cv.morphologyEx(maskww, cv.MORPH_CLOSE, kernel)\n",
        "\n",
        "\n",
        "  # Declaración de los intervalos de color amarillo y verde.\n",
        "  lower_green = np.array([20,25, 25])\n",
        "  upper_green = np.array([90, 255, 255])\n",
        "\n",
        "  # Se construye la respectiva máscara con los intervalos dados.\n",
        "  maskGY = cv.inRange(frameHSV, lower_green, upper_green)\n",
        "\n",
        "  #Declaración de los rangos de color rojo en la escala HSV.\n",
        "  redBajo1 = np.array([0, 100, 20], np.uint8)\n",
        "  redAlto1 = np.array([10, 255, 255], np.uint8)\n",
        "  redBajo2 = np.array([160, 100, 20], np.uint8)\n",
        "  redAlto2 = np.array([179, 255, 255], np.uint8)\n",
        "\n",
        "  # Se construye la máscara de color rojo con los 4 intervalos dados.\n",
        "  maskRed1 = cv.inRange(frameHSV, redBajo1, redAlto1)\n",
        "  maskRed2 = cv.inRange(frameHSV, redBajo2, redAlto2)\n",
        "  maskRed = cv.add(maskRed1, maskRed2)\n",
        "  maskRedVis = cv.bitwise_and(img, img, mask= maskRed)\n",
        "  maskFull = cv.add(maskRed, mask_antiwhite, maskGY)\n",
        "\n",
        "\n",
        "  # Finalmente se realizan las operaciones morfológicas a toda la máscara\n",
        "  # diseñada asegurando que se extrae la sección de la imagen deseada con la\n",
        "  # menor cantidad de puntos negros o píxeles no deseados.\n",
        "  W = 1\n",
        "  kernel = cv.getStructuringElement(cv.MORPH_RECT, (2 * W + 1, 2 * W + 1))\n",
        "  maskFull = cv.erode(maskFull,kernel,iterations = 1)\n",
        "\n",
        "  W = 15\n",
        "  kernel = cv.getStructuringElement(cv.MORPH_RECT, (2 * W + 1, 2 * W + 1))\n",
        "  maskFull = cv.morphologyEx(maskFull, cv.MORPH_CLOSE, kernel)\n",
        "  maskFullVis = cv.bitwise_and(img, img, mask= maskFull)\n",
        "\n",
        "  # Dependiendo de la condición de entrada se guarda ya sea en la carpeta de \n",
        "  # fresas sanas o enfermas.\n",
        "  if(cond == 1):\n",
        "    cv.imwrite(f'/content/drive/MyDrive/Img_Dataset/Full/Healthy/image_{i}',maskFullVis)\n",
        "  else:\n",
        "    cv.imwrite(f'/content/drive/MyDrive/Img_Dataset/Full/Sick/image_{i}',maskFullVis)\n",
        "\n",
        "\n",
        "def augmentation(dir_in, n_samples):\n",
        "  # Se llama la funcion de augmentor y además se tienen como parámetros de \n",
        "  # entrada los directorios de entrada y salida de imágenes.\n",
        "  p = Augmentor.Pipeline(dir_in,output_directory=dir_in)\n",
        "\n",
        "  # A continuación se realizan diferentes procesos a las imágenes, como rotación\n",
        "  # de 90°, acercamientos y estiramientos desde distinitos ángulos.\n",
        "  p.flip_left_right(probability=0.08)\n",
        "  p.flip_top_bottom(probability=0.12)\n",
        "  p.skew_left_right(probability=0.1)\n",
        "  p.skew_corner(probability=0.17)\n",
        "  p.rotate180(probability=0.14)\n",
        "  p.shear(probability=0.08, max_shear_left = 20, max_shear_right = 20)\n",
        "  p.rotate270(probability = 0.06)\n",
        "\n",
        "  # Finalmente esta función permite generar el número de imágenes de acuerdo \n",
        "  # con lo que el usuario desee y asigne al parámetro de entrada.\n",
        "  num_of_samples = int(n_samples)\n",
        "  p.sample(num_of_samples)"
      ],
      "metadata": {
        "colab": {
          "base_uri": "https://localhost:8080/"
        },
        "id": "9U31TV91JJfB",
        "outputId": "766caff9-f422-4e54-ada9-85f1390d881f"
      },
      "execution_count": null,
      "outputs": [
        {
          "output_type": "stream",
          "name": "stdout",
          "text": [
            "Drive already mounted at /content/drive; to attempt to forcibly remount, call drive.mount(\"/content/drive\", force_remount=True).\n",
            "Looking in indexes: https://pypi.org/simple, https://us-python.pkg.dev/colab-wheels/public/simple/\n",
            "Requirement already satisfied: Augmentor in /usr/local/lib/python3.7/dist-packages (0.2.10)\n",
            "Requirement already satisfied: Pillow>=5.2.0 in /usr/local/lib/python3.7/dist-packages (from Augmentor) (7.1.2)\n",
            "Requirement already satisfied: numpy>=1.11.0 in /usr/local/lib/python3.7/dist-packages (from Augmentor) (1.21.6)\n",
            "Requirement already satisfied: future>=0.16.0 in /usr/local/lib/python3.7/dist-packages (from Augmentor) (0.16.0)\n",
            "Requirement already satisfied: tqdm>=4.9.0 in /usr/local/lib/python3.7/dist-packages (from Augmentor) (4.64.1)\n"
          ]
        }
      ]
    },
    {
      "cell_type": "code",
      "execution_count": null,
      "metadata": {
        "colab": {
          "base_uri": "https://localhost:8080/"
        },
        "id": "0y2T72RtIyp-",
        "outputId": "1388f88c-43bc-44d6-950f-595fbe154d0c"
      },
      "outputs": [
        {
          "output_type": "stream",
          "name": "stderr",
          "text": [
            "100%|██████████| 230/230 [01:09<00:00,  3.33it/s]\n"
          ]
        },
        {
          "output_type": "stream",
          "name": "stdout",
          "text": [
            "Initialised with 230 image(s) found.\n",
            "Output directory set to /content/drive/MyDrive/Img_Dataset/Full/Healthy."
          ]
        },
        {
          "output_type": "stream",
          "name": "stderr",
          "text": [
            "Processing <PIL.Image.Image image mode=RGB size=256x192 at 0x7F0984D1B5D0>: 100%|██████████| 1250/1250 [00:12<00:00, 96.88 Samples/s]\n",
            "100%|██████████| 71/71 [00:19<00:00,  3.59it/s]\n"
          ]
        },
        {
          "output_type": "stream",
          "name": "stdout",
          "text": [
            "Initialised with 71 image(s) found.\n",
            "Output directory set to /content/drive/MyDrive/Img_Dataset/Full/Sick."
          ]
        },
        {
          "output_type": "stream",
          "name": "stderr",
          "text": [
            "Processing <PIL.Image.Image image mode=RGB size=256x192 at 0x7F0984FA8F50>: 100%|██████████| 750/750 [00:07<00:00, 95.10 Samples/s]\n"
          ]
        }
      ],
      "source": [
        "# A continuación se aplican las funciones anteriores para efectuar la etapa de\n",
        "# preprocesamiento y aumento de datos.\n",
        "\n",
        "# En las lineas posteriores se realiza la lectura cíclica de las carpetas que\n",
        "# contienen las imágenes sin procesar.\n",
        "contenido= os.listdir(\"/content/drive/MyDrive/Dataset/Full/Healthy\")\n",
        "r= re.compile(\"\\.(jpg|png)\", re.IGNORECASE)\n",
        "coments= list(filter(r.search,contenido))\n",
        "A= os.path.join(\"/content/drive/MyDrive/Dataset/Full/Healthy/\"+coments[0])\n",
        "for i in tqdm(coments):\n",
        "# Declaracion de path de imagenes\n",
        "  path=os.path.join(\"/content/drive/MyDrive/Dataset/Full/Healthy/\"+i)\n",
        "  # Eb estos pasos se hace la lectura y guardado de las imagénes procesadas.\n",
        "  img = cv.imread(path)\n",
        "  img_process(img,1)\n",
        "\n",
        "dir_in = \"/content/drive/MyDrive/Img_Dataset/Full/Healthy\"\n",
        "\n",
        "# En la siguiente línea se hace el aumento de imágenes incrementándolas en 1250\n",
        "# a partir del directrorio de entrada.\n",
        "augmentation(dir_in,1250)\n",
        "\n",
        "\n",
        "# Nuevamente se realiza la lectura de las imágenes, pero en este caso con las\n",
        "# que contienen las fresas enfermas.\n",
        "contenido= os.listdir(\"/content/drive/MyDrive/Dataset/Full/Sick\")\n",
        "r= re.compile(\"\\.(jpg|png)\", re.IGNORECASE)\n",
        "coments= list(filter(r.search,contenido))\n",
        "A= os.path.join(\"/content/drive/MyDrive/Dataset/Full/Sick/\"+coments[0])\n",
        "for i in tqdm(coments):\n",
        "  path=os.path.join(\"/content/drive/MyDrive/Dataset/Full/Sick/\"+i)\n",
        "  # Se lee la imagen y se almacena en el directorio en cuestión.\n",
        "  img = cv.imread(path)\n",
        "  img_process(img,2)\n",
        "\n",
        "dir_in = \"/content/drive/MyDrive/Img_Dataset/Full/Sick\"\n",
        "\n",
        "# Se finaliza con el aumento de imágenes de fresas enfermas en 750 con su \n",
        "# respectivo directorio de guardado y lectura.\n",
        "augmentation(dir_in,750)\n",
        "\n",
        "\n"
      ]
    }
  ]
}